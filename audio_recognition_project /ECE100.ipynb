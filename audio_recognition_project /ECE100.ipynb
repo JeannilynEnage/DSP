{
  "nbformat": 4,
  "nbformat_minor": 0,
  "metadata": {
    "colab": {
      "provenance": [],
      "authorship_tag": "ABX9TyNKniWGOLngktGw3pmV+TSo",
      "include_colab_link": true
    },
    "kernelspec": {
      "name": "python3",
      "display_name": "Python 3"
    },
    "language_info": {
      "name": "python"
    }
  },
  "cells": [
    {
      "cell_type": "markdown",
      "metadata": {
        "id": "view-in-github",
        "colab_type": "text"
      },
      "source": [
        "<a href=\"https://colab.research.google.com/github/JeannilynEnage/DSP/blob/main/audio_recognition_project%20/ECE100.ipynb\" target=\"_parent\"><img src=\"https://colab.research.google.com/assets/colab-badge.svg\" alt=\"Open In Colab\"/></a>"
      ]
    },
    {
      "cell_type": "code",
      "execution_count": 1,
      "metadata": {
        "colab": {
          "base_uri": "https://localhost:8080/"
        },
        "id": "QFu3JI7bP0Di",
        "outputId": "cb405d85-a06b-47f9-eb8a-c62ca628f339"
      },
      "outputs": [
        {
          "output_type": "stream",
          "name": "stdout",
          "text": [
            "Not enough samples to crop to 44099.\n"
          ]
        }
      ],
      "source": [
        "import librosa\n",
        "import numpy as np\n",
        "import soundfile as sf\n",
        "\n",
        "# Load the audio file\n",
        "audio, sample_rate = librosa.load('ECE1.wav', sr=44100)\n",
        "\n",
        "# Find the index of the first positive sample\n",
        "first_positive_index = np.where(audio > 0.25)[0]\n",
        "\n",
        "# Check if there's a positive sample\n",
        "if first_positive_index.size > 0:\n",
        "    # Crop the audio from the first positive sample to 44099 samples\n",
        "    start_index = first_positive_index[0]\n",
        "    cropped_audio = audio[start_index:start_index + 44100]\n",
        "\n",
        "    # Ensure we don't exceed the array length\n",
        "    if len(cropped_audio) < 44099:\n",
        "        print(\"Not enough samples to crop to 44099.\")\n",
        "    else:\n",
        "        # Write the cropped audio to a new file\n",
        "        sf.write('clean_ECE1.wav', cropped_audio, sample_rate, subtype='PCM_24')\n",
        "else:\n",
        "    print(\"No positive samples found in the audio.\")"
      ]
    }
  ]
}